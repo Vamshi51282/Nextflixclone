{
  "nbformat": 4,
  "nbformat_minor": 0,
  "metadata": {
    "colab": {
      "provenance": [],
      "authorship_tag": "ABX9TyPx6BKv9xIf/HwLVd66FBjF",
      "include_colab_link": true
    },
    "kernelspec": {
      "name": "python3",
      "display_name": "Python 3"
    },
    "language_info": {
      "name": "python"
    }
  },
  "cells": [
    {
      "cell_type": "markdown",
      "metadata": {
        "id": "view-in-github",
        "colab_type": "text"
      },
      "source": [
        "<a href=\"https://colab.research.google.com/github/Vamshi51282/Nextflixclone/blob/main/Copy_of_Untitled44.ipynb\" target=\"_parent\"><img src=\"https://colab.research.google.com/assets/colab-badge.svg\" alt=\"Open In Colab\"/></a>"
      ]
    },
    {
      "cell_type": "code",
      "execution_count": null,
      "metadata": {
        "colab": {
          "base_uri": "https://localhost:8080/"
        },
        "id": "oeANQ0dD3NwN",
        "outputId": "641a7e32-2a28-413f-fc1e-303d75da32ad"
      },
      "outputs": [
        {
          "output_type": "stream",
          "name": "stdout",
          "text": [
            "3\n",
            "1\n"
          ]
        }
      ],
      "source": [
        "N=int(input())\n",
        "if N%2==0:\n",
        "    print(N//2-1)\n",
        "else:\n",
        "    print(N//2)"
      ]
    },
    {
      "cell_type": "code",
      "source": [
        "#\n",
        "list=[2,45,67,8,23,6,9,12,5,]\n",
        "listx=[]\n",
        "for i in range(len(list)):\n",
        "    for j in range(i+1,len(list)):\n",
        "        if list[i]==list[j]  and\n",
        "           list[i] not in listx:\n",
        "           listx append(list[i])\n",
        "print(x)"
      ],
      "metadata": {
        "colab": {
          "base_uri": "https://localhost:8080/",
          "height": 141
        },
        "id": "RMJqYNbHohgA",
        "outputId": "01e64ee0-ae67-48cf-ad5f-a5bd9c7f6a37"
      },
      "execution_count": 6,
      "outputs": [
        {
          "output_type": "error",
          "ename": "SyntaxError",
          "evalue": "ignored",
          "traceback": [
            "\u001b[0;36m  File \u001b[0;32m\"<ipython-input-6-5ea564ce04c3>\"\u001b[0;36m, line \u001b[0;32m5\u001b[0m\n\u001b[0;31m    if list[i]==list[j]  and\u001b[0m\n\u001b[0m                            ^\u001b[0m\n\u001b[0;31mSyntaxError\u001b[0m\u001b[0;31m:\u001b[0m invalid syntax\n"
          ]
        }
      ]
    },
    {
      "cell_type": "code",
      "source": [
        "# to check whether the number is even or odd\n",
        "a=int(input(\"a=\"))\n",
        "if((a%2)==0):\n",
        "    print(\"a is even:\")\n",
        "else:\n",
        "    print(\"a is odd:\")"
      ],
      "metadata": {
        "colab": {
          "base_uri": "https://localhost:8080/"
        },
        "id": "Rt_BF-prrWzi",
        "outputId": "3c752802-1ea0-4de8-c1ca-6d4ee1f92460"
      },
      "execution_count": 7,
      "outputs": [
        {
          "output_type": "stream",
          "name": "stdout",
          "text": [
            "a=4\n",
            "a is even:\n"
          ]
        }
      ]
    },
    {
      "cell_type": "code",
      "source": [
        "# To find greatest of three numbers\n",
        "A=int(input(\"A=\"))\n",
        "B=int(input(\"B=\"))\n",
        "C=int(input(\"c=\"))\n",
        "if(A>B) and (A>C):\n",
        "    print(\"A is Greatest:\")\n",
        "elif(B>A) and (B>C):\n",
        "    print(\"B is Greatest:\")\n",
        "else:\n",
        "    print(\"C is Greatest:\")"
      ],
      "metadata": {
        "colab": {
          "base_uri": "https://localhost:8080/"
        },
        "id": "XaAZWt56rW3C",
        "outputId": "02d5c555-9048-4417-9699-4ab9e342cb41"
      },
      "execution_count": 8,
      "outputs": [
        {
          "output_type": "stream",
          "name": "stdout",
          "text": [
            "A=10\n",
            "B=40\n",
            "c=20\n",
            "B is Greatest:\n"
          ]
        }
      ]
    },
    {
      "cell_type": "code",
      "source": [
        "# Add of Two numbers\n",
        "a=int(input(\"a=\"))\n",
        "b=int(input(\"b=\"))\n",
        "c=a+b\n",
        "print(\"Ans=\",c)"
      ],
      "metadata": {
        "id": "rdsoMwo7_m5D",
        "colab": {
          "base_uri": "https://localhost:8080/"
        },
        "outputId": "071e8b1b-1199-4f13-e604-d16386560524"
      },
      "execution_count": 9,
      "outputs": [
        {
          "output_type": "stream",
          "name": "stdout",
          "text": [
            "a=2\n",
            "b=5\n",
            "Ans= 7\n"
          ]
        }
      ]
    },
    {
      "cell_type": "code",
      "source": [],
      "metadata": {
        "id": "9RtKrdPbuK48"
      },
      "execution_count": null,
      "outputs": []
    },
    {
      "cell_type": "code",
      "source": [],
      "metadata": {
        "id": "4hyzN3T0vwF-"
      },
      "execution_count": null,
      "outputs": []
    },
    {
      "cell_type": "code",
      "source": [
        "rows = 8\n",
        "\n",
        "for i in range(1, rows):\n",
        "    for j in range(1, rows - i):\n",
        "        print(' ', end='')\n",
        "    for j in range(0, 2 * i - 1):\n",
        "        print('*', end='')\n",
        "    print()"
      ],
      "metadata": {
        "id": "n4J_Xlsr3zUa",
        "colab": {
          "base_uri": "https://localhost:8080/"
        },
        "outputId": "e41eec22-2a4e-4a5c-d91a-8289e335531e"
      },
      "execution_count": null,
      "outputs": [
        {
          "output_type": "stream",
          "name": "stdout",
          "text": [
            "      *\n",
            "     ***\n",
            "    *****\n",
            "   *******\n",
            "  *********\n",
            " ***********\n",
            "*************\n"
          ]
        }
      ]
    },
    {
      "cell_type": "code",
      "source": [
        "rows = 8\n",
        "\n",
        "for i in range(1, rows):\n",
        "    for j in range(1, rows - i):\n",
        "        print(' ', end='')\n",
        "    for j in range(0, 2 * i - 1):\n",
        "        print('*', end='')\n",
        "    print()\n",
        "\n",
        "for i in range(rows -2, 0, -1):\n",
        "    for j in range(1, rows - i):\n",
        "        print(' ',end='')\n",
        "    for j in range(1, 2 * i):\n",
        "        print('*', end='')\n",
        "    print()\n",
        "\n"
      ],
      "metadata": {
        "id": "G5_cD5AM6djn",
        "colab": {
          "base_uri": "https://localhost:8080/"
        },
        "outputId": "ec3ac3f7-f0f6-41a9-ca4b-8c796afd5dab"
      },
      "execution_count": null,
      "outputs": [
        {
          "output_type": "stream",
          "name": "stdout",
          "text": [
            "      *\n",
            "     ***\n",
            "    *****\n",
            "   *******\n",
            "  *********\n",
            " ***********\n",
            "*************\n",
            " ***********\n",
            "  *********\n",
            "   *******\n",
            "    *****\n",
            "     ***\n",
            "      *\n"
          ]
        }
      ]
    },
    {
      "cell_type": "code",
      "source": [
        "def factorial(n):\n",
        "    if n == 0:\n",
        "        return 1\n",
        "    else:\n",
        "        return n * factorial(n-1)\n",
        "\n",
        "num = 5\n",
        "print(\"The factorial of\", num, \"is\", factorial(num))"
      ],
      "metadata": {
        "id": "TiIeLXUW31jG",
        "colab": {
          "base_uri": "https://localhost:8080/"
        },
        "outputId": "7647ebb5-d707-4e2a-f35d-3376c2497184"
      },
      "execution_count": null,
      "outputs": [
        {
          "output_type": "stream",
          "name": "stdout",
          "text": [
            "The factorial of 5 is 120\n"
          ]
        }
      ]
    }
  ]
}